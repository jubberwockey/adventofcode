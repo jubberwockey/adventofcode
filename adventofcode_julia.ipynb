{
 "cells": [
  {
   "cell_type": "markdown",
   "metadata": {},
   "source": [
    "# day 1"
   ]
  },
  {
   "cell_type": "code",
   "execution_count": 25,
   "metadata": {},
   "outputs": [
    {
     "data": {
      "text/plain": [
       "2-element Array{Tuple{Int64,Int64,Int64},1}:\n",
       " (1312, 708, 928896)\n",
       " (708, 1312, 928896)"
      ]
     },
     "execution_count": 25,
     "metadata": {},
     "output_type": "execute_result"
    }
   ],
   "source": [
    "data = parse.(Int, readlines(\"./day1/input\"))\n",
    "[(i, j, i*j) for i in data for j in data if i+j == 2020]"
   ]
  },
  {
   "cell_type": "code",
   "execution_count": 24,
   "metadata": {},
   "outputs": [
    {
     "data": {
      "text/plain": [
       "6-element Array{NTuple{4,Int64},1}:\n",
       " (798, 664, 558, 295668576)\n",
       " (798, 558, 664, 295668576)\n",
       " (664, 798, 558, 295668576)\n",
       " (664, 558, 798, 295668576)\n",
       " (558, 798, 664, 295668576)\n",
       " (558, 664, 798, 295668576)"
      ]
     },
     "execution_count": 24,
     "metadata": {},
     "output_type": "execute_result"
    }
   ],
   "source": [
    "[(i, j, k, i*j*k) for i in data for j in data for k in data if i+j+k == 2020]"
   ]
  },
  {
   "cell_type": "markdown",
   "metadata": {},
   "source": [
    "# day 2"
   ]
  },
  {
   "cell_type": "code",
   "execution_count": 61,
   "metadata": {
    "collapsed": true
   },
   "outputs": [
    {
     "data": {
      "text/plain": [
       "1000-element Array{Array{Any,1},1}:\n",
       " [6, 7, 'w', \"wwhmzwtwwk\"]\n",
       " [10, 12, 'q', \"qqqqqqqqqqqdqqq\"]\n",
       " [16, 17, 'd', \"ddddgdddddkddddsxddd\"]\n",
       " [2, 4, 'q', \"shbqwqpps\"]\n",
       " [3, 4, 'q', \"qkfq\"]\n",
       " [2, 10, 'm', \"bkdrmcfdhmr\"]\n",
       " [13, 19, 's', \"blccvhsgsnsssqszssm\"]\n",
       " [1, 3, 'l', \"qlxllhl\"]\n",
       " [4, 6, 'h', \"hhhqhhh\"]\n",
       " [15, 17, 'l', \"jrtllrlllllmmlllg\"]\n",
       " [11, 12, 'n', \"bnzlnnnnbnntnnnc\"]\n",
       " [1, 7, 'p', \"pppvppjppmptp\"]\n",
       " [5, 6, 't', \"tttnht\"]\n",
       " ⋮\n",
       " [4, 13, 'j', \"sjjjjjjjjjjjtjj\"]\n",
       " [7, 8, 'r', \"fztxkwhrrxnnn\"]\n",
       " [5, 6, 'r', \"rrqrrrr\"]\n",
       " [1, 5, 'q', \"qqqqvqqq\"]\n",
       " [8, 14, 't', \"ttvpttkptthtttrcj\"]\n",
       " [2, 7, 'n', \"znjqsvpstfjph\"]\n",
       " [6, 7, 'l', \"llllllnl\"]\n",
       " [19, 20, 'c', \"vwltcctcmcdccrqdccwc\"]\n",
       " [4, 15, 'd', \"bfkxfrsznfkdzpjmbp\"]\n",
       " [12, 15, 'q', \"qqqqqqqqqqqvqqqq\"]\n",
       " [6, 10, 't', \"tttttbttktt\"]\n",
       " [1, 18, 'c', \"ccdczcvccvclcccvkccb\"]"
      ]
     },
     "execution_count": 61,
     "metadata": {},
     "output_type": "execute_result"
    }
   ],
   "source": [
    "input = split.(readlines(\"./day2/input\"))\n",
    "data = [vcat(parse.(Int, split(i[1], \"-\")), [i[2][1], i[3]]) for i in input]"
   ]
  },
  {
   "cell_type": "code",
   "execution_count": 72,
   "metadata": {},
   "outputs": [
    {
     "data": {
      "text/plain": [
       "477"
      ]
     },
     "execution_count": 72,
     "metadata": {},
     "output_type": "execute_result"
    }
   ],
   "source": [
    "sum([ i[1] <= count(c -> (c == i[3]), i[4]) <= i[2] for i in data])"
   ]
  },
  {
   "cell_type": "code",
   "execution_count": 76,
   "metadata": {},
   "outputs": [
    {
     "data": {
      "text/plain": [
       "686"
      ]
     },
     "execution_count": 76,
     "metadata": {},
     "output_type": "execute_result"
    }
   ],
   "source": [
    "sum([ xor(i[4][i[1]] == i[3], i[4][i[2]] == i[3]) for i in data])"
   ]
  },
  {
   "cell_type": "markdown",
   "metadata": {},
   "source": [
    "# day 3"
   ]
  },
  {
   "cell_type": "code",
   "execution_count": 138,
   "metadata": {},
   "outputs": [
    {
     "name": "stdout",
     "output_type": "stream",
     "text": [
      "79\n",
      "234\n",
      "72\n",
      "91\n",
      "48\n"
     ]
    },
    {
     "data": {
      "text/plain": [
       "5813773056"
      ]
     },
     "execution_count": 138,
     "metadata": {},
     "output_type": "execute_result"
    }
   ],
   "source": [
    "input = readlines(\"./day3/input\")\n",
    "data = input\n",
    "\n",
    "function trees_hit(data::Array, right::Int=3, down::Int=1)::Int\n",
    "    row = 1\n",
    "    col = 1\n",
    "    maxcols = length(data[1])\n",
    "    maxrows = length(data)-1\n",
    "    trees = 0\n",
    "\n",
    "    for i = 1:maxrows/down\n",
    "        row = row + down\n",
    "        col = col + right\n",
    "        if col > maxcols\n",
    "            col = col - maxcols\n",
    "        end\n",
    "        if data[row][col] == '#'\n",
    "            trees += 1\n",
    "        end\n",
    "    end\n",
    "    return trees\n",
    "end\n",
    "\n",
    "res = 1\n",
    "for (right, down) = [(1,1), (3,1), (5,1), (7,1), (1,2)]\n",
    "    th = trees_hit(input, right, down)\n",
    "    println(th)\n",
    "    res *= th\n",
    "end\n",
    "\n",
    "res"
   ]
  },
  {
   "cell_type": "markdown",
   "metadata": {},
   "source": [
    "# day 4"
   ]
  },
  {
   "cell_type": "markdown",
   "metadata": {},
   "source": [
    "# day 5"
   ]
  },
  {
   "cell_type": "code",
   "execution_count": 173,
   "metadata": {
    "scrolled": true
   },
   "outputs": [],
   "source": [
    "input = readlines(\"./day5/input\");"
   ]
  },
  {
   "cell_type": "code",
   "execution_count": 187,
   "metadata": {},
   "outputs": [
    {
     "data": {
      "text/plain": [
       "938"
      ]
     },
     "execution_count": 187,
     "metadata": {},
     "output_type": "execute_result"
    }
   ],
   "source": [
    "function parse_seat(seat_str, high='B')\n",
    "    len = length(seat_str)\n",
    "    coeffs = [c == high ? 1 : 0 for c in seat_str]\n",
    "    return sum([c * 2^(len-pow) for (pow, c) in enumerate(coeffs)])\n",
    "end\n",
    "\n",
    "function seat_id(seat_str)\n",
    "    return 8 * parse_seat(seat_str[1:7]) + parse_seat(seat_str[8:10], 'R')\n",
    "    \n",
    "end\n",
    "\n",
    "seat_ids = seat_id.(input)\n",
    "maximum(seat_ids)"
   ]
  },
  {
   "cell_type": "code",
   "execution_count": 188,
   "metadata": {},
   "outputs": [
    {
     "data": {
      "text/plain": [
       "696"
      ]
     },
     "execution_count": 188,
     "metadata": {},
     "output_type": "execute_result"
    }
   ],
   "source": [
    "function find_seat(seat_ids)\n",
    "    i1 = 0\n",
    "    for i in sort(seat_ids)\n",
    "        if i == i1+2\n",
    "            return i-1\n",
    "        end\n",
    "        i1 = i\n",
    "    end\n",
    "end\n",
    "    \n",
    "find_seat(seat_ids)"
   ]
  },
  {
   "cell_type": "code",
   "execution_count": null,
   "metadata": {},
   "outputs": [],
   "source": []
  }
 ],
 "metadata": {
  "kernelspec": {
   "display_name": "Julia 1.4.1",
   "language": "julia",
   "name": "julia-1.4"
  },
  "language_info": {
   "file_extension": ".jl",
   "mimetype": "application/julia",
   "name": "julia",
   "version": "1.4.1"
  }
 },
 "nbformat": 4,
 "nbformat_minor": 4
}
