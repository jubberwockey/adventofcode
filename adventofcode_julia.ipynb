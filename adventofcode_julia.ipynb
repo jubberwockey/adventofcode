{
 "cells": [
  {
   "cell_type": "markdown",
   "metadata": {},
   "source": [
    "# day 1"
   ]
  },
  {
   "cell_type": "code",
   "execution_count": null,
   "metadata": {},
   "outputs": [],
   "source": [
    "data = parse.(Int, readlines(\"./day1/input\"))\n",
    "[(i, j, i*j) for i in data for j in data if i+j == 2020]"
   ]
  },
  {
   "cell_type": "code",
   "execution_count": null,
   "metadata": {},
   "outputs": [],
   "source": [
    "[(i, j, k, i*j*k) for i in data for j in data for k in data if i+j+k == 2020]"
   ]
  },
  {
   "cell_type": "markdown",
   "metadata": {},
   "source": [
    "# day 2"
   ]
  },
  {
   "cell_type": "code",
   "execution_count": null,
   "metadata": {},
   "outputs": [],
   "source": [
    "input = split.(readlines(\"./day2/input\"))\n",
    "data = [vcat(parse.(Int, split(i[1], \"-\")), [i[2][1], i[3]]) for i in input]"
   ]
  },
  {
   "cell_type": "code",
   "execution_count": null,
   "metadata": {},
   "outputs": [],
   "source": [
    "sum([ i[1] <= count(c -> (c == i[3]), i[4]) <= i[2] for i in data])"
   ]
  },
  {
   "cell_type": "code",
   "execution_count": null,
   "metadata": {},
   "outputs": [],
   "source": [
    "sum([ xor(i[4][i[1]] == i[3], i[4][i[2]] == i[3]) for i in data])"
   ]
  },
  {
   "cell_type": "markdown",
   "metadata": {},
   "source": [
    "# day 3"
   ]
  },
  {
   "cell_type": "code",
   "execution_count": null,
   "metadata": {},
   "outputs": [],
   "source": [
    "input = readlines(\"./day3/input\")\n",
    "data = input\n",
    "\n",
    "function trees_hit(data::Array, right::Int=3, down::Int=1)::Int\n",
    "    row = 1\n",
    "    col = 1\n",
    "    maxcols = length(data[1])\n",
    "    maxrows = length(data)-1\n",
    "    trees = 0\n",
    "\n",
    "    for i = 1:maxrows/down\n",
    "        row = row + down\n",
    "        col = col + right\n",
    "        if col > maxcols\n",
    "            col = col - maxcols\n",
    "        end\n",
    "        if data[row][col] == '#'\n",
    "            trees += 1\n",
    "        end\n",
    "    end\n",
    "    return trees\n",
    "end\n",
    "\n",
    "res = 1\n",
    "for (right, down) = [(1,1), (3,1), (5,1), (7,1), (1,2)]\n",
    "    th = trees_hit(input, right, down)\n",
    "    println(th)\n",
    "    res *= th\n",
    "end\n",
    "\n",
    "res"
   ]
  },
  {
   "cell_type": "markdown",
   "metadata": {},
   "source": [
    "# day 4"
   ]
  },
  {
   "cell_type": "code",
   "execution_count": null,
   "metadata": {
    "scrolled": true
   },
   "outputs": [],
   "source": [
    "input = replace.(split(read(\"./day4/input\", String), \"\\n\\n\"), r\"\\n\" => s\" \")\n",
    "\n",
    "data = [split.(pp) for pp in input]\n",
    "data = [Dict(split.(pp, \":\")) for pp in data]\n",
    "\n",
    "valid_fields = [\"hcl\", \"ecl\", \"pid\", \"cid\", \"iyr\", \"eyr\", \"hgt\", \"byr\"]\n",
    "sum([issubset(setdiff(valid_fields, keys(pp)), [\"cid\"]) for pp in data])"
   ]
  },
  {
   "cell_type": "code",
   "execution_count": null,
   "metadata": {},
   "outputs": [],
   "source": []
  },
  {
   "cell_type": "markdown",
   "metadata": {},
   "source": [
    "# day 5"
   ]
  },
  {
   "cell_type": "code",
   "execution_count": null,
   "metadata": {
    "scrolled": true
   },
   "outputs": [],
   "source": [
    "input = readlines(\"./day5/input\");"
   ]
  },
  {
   "cell_type": "code",
   "execution_count": null,
   "metadata": {},
   "outputs": [],
   "source": [
    "function parse_seat(seat_str, high='B')\n",
    "    len = length(seat_str)\n",
    "    coeffs = [c == high ? 1 : 0 for c in seat_str]\n",
    "    return sum([c * 2^(len-pow) for (pow, c) in enumerate(coeffs)])\n",
    "end\n",
    "\n",
    "function seat_id(seat_str)\n",
    "    return 8 * parse_seat(seat_str[1:7]) + parse_seat(seat_str[8:10], 'R')\n",
    "    \n",
    "end\n",
    "\n",
    "seat_ids = seat_id.(input)\n",
    "maximum(seat_ids)"
   ]
  },
  {
   "cell_type": "code",
   "execution_count": null,
   "metadata": {},
   "outputs": [],
   "source": [
    "function find_seat(seat_ids)\n",
    "    i1 = 0\n",
    "    for i in sort(seat_ids)\n",
    "        if i == i1+2\n",
    "            return i-1\n",
    "        end\n",
    "        i1 = i\n",
    "    end\n",
    "end\n",
    "    \n",
    "find_seat(seat_ids)"
   ]
  },
  {
   "cell_type": "markdown",
   "metadata": {},
   "source": [
    "# day 6"
   ]
  },
  {
   "cell_type": "code",
   "execution_count": null,
   "metadata": {},
   "outputs": [],
   "source": [
    "using Test\n",
    "\n",
    "function read_input(path)\n",
    "    # chomp trailing \\n, otherwise interpreted as empty set\n",
    "    input = chomp(read(path, String))\n",
    "    data = split(input, \"\\n\\n\")\n",
    "    return data\n",
    "end\n",
    "\n",
    "function any_persons_answers(data)\n",
    "    group_answers = delete!.(Set.(data), '\\n')\n",
    "    return group_answers\n",
    "end\n",
    "\n",
    "function all_persons_answers(data)\n",
    "    person_answers = split.(data, '\\n')\n",
    "    every_person_answers = [ intersect(Set.(i)...) for i in person_answers ]\n",
    "    return every_person_answers\n",
    "end\n",
    "\n",
    "sum_count(answers) = sum(length.(answers))\n",
    "\n",
    "@test sum_count(any_persons_answers(read_input(\"./day6/test\"))) == 11\n",
    "@test sum_count(all_persons_answers(read_input(\"./day6/test\"))) == 6\n",
    "\n",
    "data = read_input(\"./day6/input\")\n",
    "\n",
    "\n",
    "print(\"$(sum_count(any_persons_answers(data))), $(sum_count(all_persons_answers(data)))\")"
   ]
  },
  {
   "cell_type": "markdown",
   "metadata": {},
   "source": [
    "# day 7"
   ]
  },
  {
   "cell_type": "code",
   "execution_count": null,
   "metadata": {},
   "outputs": [],
   "source": [
    "function parse_input(path)\n",
    "    data = split.(chop.(replace.(readlines(path), r\" bag[s]*\" => \"\")), \" contain \")\n",
    "    data = Dict(map(i -> [i[1], Dict{Any,Any}([parse_arguments(s) for s in split(i[2], \", \") if s[1:2] != \"no\"])], data))\n",
    "    return data\n",
    "end\n",
    "\n",
    "function parse_arguments(str)\n",
    "    return [str[3:end], parse(Int, str[1])]\n",
    "end\n",
    "\n",
    "function build_tree(key::String, rules)\n",
    "    tree = copy(rules[key])\n",
    "    for (k, v) in tree\n",
    "        tree[k] = build_tree(convert(String, k), rules)\n",
    "    end\n",
    "    return tree\n",
    "end\n",
    "\n",
    "function build_tree(dict::Dict, rules)\n",
    "    tree = copy(dict)\n",
    "#     tree = dict\n",
    "    for (k, v) in tree\n",
    "        tree[k] = build_tree(rules[k], rules)\n",
    "    end\n",
    "    return tree\n",
    "end\n",
    "\n",
    "function find_in_tree(tree, key::String)\n",
    "    for (k, v) in tree\n",
    "        if k == key\n",
    "            return true\n",
    "        else\n",
    "            found = find_in_tree(v, key)\n",
    "            if found\n",
    "                return found\n",
    "            end\n",
    "        end\n",
    "    end\n",
    "    return false\n",
    "end\n",
    "\n",
    "function count_bags(tree, rules, key)\n",
    "    count = 0\n",
    "    for (k, subtree) in tree[key]\n",
    "        if length(keys(subtree)) == 0\n",
    "            count += rules[key][k]\n",
    "        else\n",
    "            count += rules[key][k] * (count_bags(tree[key], rules, k) + 1) # +1 for counting the bag itself\n",
    "        end\n",
    "    end\n",
    "    return count\n",
    "end\n",
    "\n",
    "\n",
    "data = parse_input(\"./day7/input\")\n",
    "\n",
    "# @time tree = Dict(k => build_tree(convert(String, k), data) for (k, v) in data)\n",
    "@time tree = build_tree(data, data)\n",
    "@show sum([ find_in_tree(v, \"shiny gold\") for (k, v) in tree\n",
    "            if (k != \"shiny gold\") & (find_in_tree(v, \"shiny gold\") == 1) ])\n",
    "@show count_bags(tree, data, \"shiny gold\")\n",
    "\n",
    "# data\n",
    "# tree\n"
   ]
  },
  {
   "cell_type": "markdown",
   "metadata": {},
   "source": [
    "# day 8"
   ]
  },
  {
   "cell_type": "code",
   "execution_count": null,
   "metadata": {},
   "outputs": [],
   "source": [
    "mutable struct ProgramInstance\n",
    "    code::Array{Any, 2}\n",
    "    acc::Int\n",
    "    idx::Int\n",
    "    idx_history::Array{Int, 1}\n",
    "    ProgramInstance(code, acc, idx) = new(code, acc, idx, [idx])\n",
    "end\n",
    "\n",
    "function Base.show(io::IO, prog::ProgramInstance)\n",
    "   print(\"idx=$(prog.idx), acc=$(prog.acc)\") \n",
    "end\n",
    "\n",
    "\n",
    "function read_input(path)\n",
    "    input = readlines(path)\n",
    "    code = split.(input)\n",
    "    code = Array{Any, 2}(hcat(split.(input)...))\n",
    "    code[2,:] = parse.(Int, code[2,:])\n",
    "    return permutedims(code)\n",
    "end\n",
    "\n",
    "function parse_code(prog::ProgramInstance)\n",
    "    cmd, val = prog.code[prog.idx, :]\n",
    "    if cmd == \"jmp\"\n",
    "        prog.idx += val\n",
    "    elseif cmd == \"acc\"\n",
    "        prog.acc += val\n",
    "        prog.idx += 1\n",
    "    elseif cmd == \"nop\"\n",
    "        prog.idx += 1\n",
    "    end\n",
    "#     return prog\n",
    "end\n",
    "\n",
    "function debug(prog)\n",
    "    if prog.idx in Set(prog.idx_history)\n",
    "#             print(\"acc=$acc, $(code[idx,1])=$(code[idx,2]), $idx, $idx_history\")\n",
    "        println(\"Infinite Loop. acc=$(prog.acc), idx=$(prog.idx)\")\n",
    "        return 1\n",
    "    elseif prog.idx <= 0\n",
    "        println(\"Negative index. acc=$(prog.acc), idx=$(prog.idx)\")\n",
    "        return 1\n",
    "    elseif prog.idx > size(code, 1)\n",
    "        println(\"Success! acc=$(prog.acc), idx=$(prog.idx)\")\n",
    "        return 0\n",
    "    end\n",
    "    return -1\n",
    "end\n",
    "\n",
    "function run(code)\n",
    "    prog = ProgramInstance(code, 0, 1)\n",
    "    \n",
    "    exit_code = -1\n",
    "    while true\n",
    "        parse_code(prog)\n",
    "        exit_code = debug(prog)\n",
    "        \n",
    "        if exit_code >= 0\n",
    "            break\n",
    "        end\n",
    "\n",
    "        push!(prog.idx_history, prog.idx)\n",
    "    end\n",
    "    \n",
    "    return exit_code, prog.acc\n",
    "end\n",
    "\n",
    "function modify_code(code, idx, to=\"jmp\")\n",
    "    code_copy = copy(code)\n",
    "    code_copy[idx, 1] = to\n",
    "    return code_copy\n",
    "end\n",
    "\n",
    "code = read_input(\"./day8/test\")\n",
    "run(code)"
   ]
  },
  {
   "cell_type": "code",
   "execution_count": null,
   "metadata": {
    "scrolled": false
   },
   "outputs": [],
   "source": [
    "code = read_input(\"./day8/input\")\n",
    "\n",
    "exit_code = -1\n",
    "acc = 0\n",
    "for idx in 1:size(code,1)\n",
    "    if code[idx, 1] == \"nop\"\n",
    "        exit_code, acc = run(modify_code(code, idx, \"jmp\"))\n",
    "    elseif code[idx, 1] == \"jmp\"\n",
    "        exit_code, acc = run(modify_code(code, idx, \"nop\"))\n",
    "    end\n",
    "    if exit_code == 0\n",
    "        println(acc)\n",
    "        break\n",
    "    end\n",
    "end"
   ]
  },
  {
   "cell_type": "markdown",
   "metadata": {},
   "source": [
    "# day 9"
   ]
  },
  {
   "cell_type": "code",
   "execution_count": null,
   "metadata": {},
   "outputs": [],
   "source": [
    "function validate(data, idx, range)\n",
    "    data_range = data[idx-range:idx-1]\n",
    "    resid = data[idx] .- data_range\n",
    "    is_not_used_twice = resid .!= data_range\n",
    "    is_in_range = [ r in Set(data_range) for r in resid ] # afaik no broadcasting for 'in'\n",
    "    return |((is_not_used_twice .& is_in_range)...)\n",
    "end\n",
    "\n",
    "function find_invalid(data, range)\n",
    "    for idx in (range+1):length(data)\n",
    "        if validate(input, idx, range) == false\n",
    "            invalid = input[idx]\n",
    "            return idx, invalid\n",
    "        end\n",
    "    end\n",
    "end\n",
    "\n",
    "find_invalid(parse.(Int, readlines(\"./day9/input\")), 25)"
   ]
  },
  {
   "cell_type": "code",
   "execution_count": null,
   "metadata": {},
   "outputs": [],
   "source": [
    "function get_sum_range(data, idx, thresh)\n",
    "    total = cumsum(data) .- sum(input[1:idx])\n",
    "    sum_range = data[findall(0 .<= total .<= thresh)]\n",
    "    return sum_range, sum(sum_range)\n",
    "end\n",
    "\n",
    "input = parse.(Int, readlines(\"./day9/input\"))\n",
    "idx, thresh = find_invalid(input, 25)\n",
    "\n",
    "\n",
    "for i in 1:idx-1\n",
    "    sum_range, sum_sum_range = get_sum_range(input, i, thresh)\n",
    "    if sum_sum_range == thresh\n",
    "        return sum_range, maximum(sum_range) + minimum(sum_range)\n",
    "    end\n",
    "end"
   ]
  },
  {
   "cell_type": "markdown",
   "metadata": {},
   "source": [
    "# day 10"
   ]
  },
  {
   "cell_type": "code",
   "execution_count": null,
   "metadata": {},
   "outputs": [],
   "source": [
    "using StatsBase\n",
    "\n",
    "input = parse.(Int, readlines(\"./day10/input\"))\n",
    "append!(input, [0, maximum(input)+3])\n",
    "data = sort(input)\n",
    "data_diff = data[2:end] - data[1:end-1]\n",
    "occurences = countmap(data_diff)\n",
    "occurences[1] * occurences[3]"
   ]
  },
  {
   "cell_type": "code",
   "execution_count": null,
   "metadata": {
    "scrolled": true
   },
   "outputs": [],
   "source": [
    "using Combinatorics\n",
    "using IterTools\n",
    "\n",
    "function perm_length(len)\n",
    "    \"\"\"only works for step sizes up to 3\"\"\"\n",
    "    choosearr = vcat(Int.(ones(len)), Int.(2 * ones(Int((len-mod(len,2))/2))), Int.(3 * ones(Int((len-mod(len,3))/3))))\n",
    "\n",
    "    subs = unique([i for i in subsets(choosearr) if sum(i) == len])\n",
    "    return size(unique([i for perm in permutations.(subs) for i in perm]), 1)\n",
    "end\n",
    "\n",
    "occ, occ_len = rle(data_diff) # run-length-encoding\n",
    "\n",
    "*([perm_length(occ_len[i]) for (i, o) in enumerate(occ) if o == 1]...)"
   ]
  },
  {
   "cell_type": "markdown",
   "metadata": {},
   "source": [
    "# day 12"
   ]
  },
  {
   "cell_type": "code",
   "execution_count": null,
   "metadata": {},
   "outputs": [],
   "source": [
    "mutable struct Boat\n",
    "    rot::Int\n",
    "    x::Int\n",
    "    y::Int\n",
    "end\n",
    "\n",
    "function parse_input(s)\n",
    "    rx = r\"([A-Z])([0-9]+)\"\n",
    "    c = match(rx, s).captures\n",
    "    return c[1], parse(Int, c[2])\n",
    "end\n",
    "\n",
    "function navigate(b::Boat, dir, val)\n",
    "    if dir == \"E\"\n",
    "        b.x += val\n",
    "    elseif dir == \"W\"\n",
    "        b.x -= val\n",
    "    elseif dir == \"N\"\n",
    "        b.y += val\n",
    "    elseif dir == \"S\"\n",
    "        b.y -= val\n",
    "    elseif dir == \"L\"\n",
    "        b.rot += val\n",
    "    elseif dir == \"R\"\n",
    "        b.rot -= val\n",
    "    elseif dir == \"F\"\n",
    "        b.x += val * round(Int, cos(pi/180*b.rot))\n",
    "        b.y += val * round(Int, sin(pi/180*b.rot))\n",
    "    end\n",
    "    return b\n",
    "end\n",
    "\n",
    "function norm_L1(vec)\n",
    "    return sum(abs.(vec))\n",
    "end\n",
    "\n",
    "function run(path)\n",
    "    input = readlines(path)\n",
    "    data = parse_input.(input)\n",
    "    b = Boat(0, 0, 0)\n",
    "    for i in data\n",
    "        navigate(b, i...)\n",
    "    end\n",
    "    return norm_L1((b.x, b.y))\n",
    "end\n",
    "\n",
    "run(\"./day12/input\")"
   ]
  },
  {
   "cell_type": "code",
   "execution_count": null,
   "metadata": {},
   "outputs": [],
   "source": [
    "mutable struct WaypointBoat\n",
    "    boat_x::Int\n",
    "    boat_y::Int\n",
    "    wp_x::Int\n",
    "    wp_y::Int\n",
    "end\n",
    "\n",
    "function rotate(rot, x, y)\n",
    "    rot_matrix = round.(Int, [ cos(pi/180*rot) -sin(pi/180*rot) ; sin(pi/180*rot) cos(pi/180*rot)])\n",
    "    return rot_matrix * [x, y]\n",
    "end\n",
    "\n",
    "function navigate_waypoint(b::WaypointBoat, dir, val)\n",
    "    if dir == \"E\"\n",
    "        b.wp_x += val\n",
    "    elseif dir == \"W\"\n",
    "        b.wp_x -= val\n",
    "    elseif dir == \"N\"\n",
    "        b.wp_y += val\n",
    "    elseif dir == \"S\"\n",
    "        b.wp_y -= val\n",
    "    elseif dir == \"L\"\n",
    "        b.wp_x, b.wp_y = rotate(val, b.wp_x, b.wp_y)\n",
    "    elseif dir == \"R\"\n",
    "        b.wp_x, b.wp_y = rotate(-val, b.wp_x, b.wp_y)\n",
    "    elseif dir == \"F\"\n",
    "        b.boat_x += val * b.wp_x\n",
    "        b.boat_y += val * b.wp_y\n",
    "    end\n",
    "    return b\n",
    "end\n",
    "\n",
    "function run_waypoint(path, init_x, init_y)\n",
    "    input = readlines(path)\n",
    "    data = parse_input.(input)\n",
    "    b = WaypointBoat(0, 0, init_x, init_y)\n",
    "    for i in data\n",
    "        navigate_waypoint(b, i...)\n",
    "    end\n",
    "    return norm_L1((b.boat_x, b.boat_y))\n",
    "end\n",
    "\n",
    "run_waypoint(\"./day12/input\", 10, 1)"
   ]
  },
  {
   "cell_type": "markdown",
   "metadata": {},
   "source": [
    "# day 13"
   ]
  },
  {
   "cell_type": "code",
   "execution_count": null,
   "metadata": {},
   "outputs": [],
   "source": [
    "arrival_time, schedules = readlines(\"./day13/input\")\n",
    "arrival_time = parse(Int, arrival_time)\n",
    "\n",
    "ids = [parse(Int, r.match) for r in eachmatch(r\"([0-9]+)\", schedules)]\n",
    "arrivals = [(arrival_time % i == 0 ? arrival_time % i : i - arrival_time % i, i) for i in ids]\n",
    "prod(minimum(arrivals))"
   ]
  },
  {
   "cell_type": "code",
   "execution_count": null,
   "metadata": {},
   "outputs": [],
   "source": [
    "function find_least_common_offset_multiple(delays; t0=0)\n",
    "    o, dt = partialsort(delays, 1, by=i->i[2], rev=true)\n",
    "    t = div(t0, dt) * dt\n",
    "    @show t\n",
    "    print_t = 10^10\n",
    "    print_i = div(t, print_t) + 1\n",
    "    while true\n",
    "        t += dt\n",
    "        if sum([(t+d-o) % id for (d, id) in delays]) == 0\n",
    "            return t-o\n",
    "        end\n",
    "        if div(t, print_t) >= print_i\n",
    "            println(\"current t = $t\")\n",
    "            print_i += 1\n",
    "        end\n",
    "    end\n",
    "end\n",
    "\n",
    "\n",
    "arrival_time, schedules = readlines(\"./day13/input\")\n",
    "schedules = \"23,41\"\n",
    "\n",
    "delays = [ [t-1, parse(Int, id)] for (t, id) in enumerate(split(schedules, \",\")) if id != \"x\"]\n",
    "\n",
    "find_least_common_offset_multiple(delays, t0=0)"
   ]
  },
  {
   "cell_type": "markdown",
   "metadata": {},
   "source": [
    "# day 14"
   ]
  },
  {
   "cell_type": "code",
   "execution_count": null,
   "metadata": {},
   "outputs": [],
   "source": [
    "function apply_bitmask(int, mask)\n",
    "    b_in = bitstring(UInt64(int))[end-35:end]\n",
    "    b_out = *([b == 'X' ? b_in[i] : b for (i, b) in enumerate(mask)]...)\n",
    "    return parse(Int, b_out, base=2)\n",
    "end\n",
    "\n",
    "\n",
    "input = readlines(\"./day14/input\")\n",
    "\n",
    "mem = zeros(Int, 65200)\n",
    "\n",
    "for s in input\n",
    "    if s[1:4] == \"mask\"\n",
    "        eval(Meta.parse(replace(s, r\"([01X]+)\" => s\"\\\"\\1\\\"\")))\n",
    "    else\n",
    "        eval(Meta.parse(replace(s, r\" ([0-9]+)\" => s\" apply_bitmask(\\1, mask)\")))\n",
    "    end\n",
    "end\n",
    "\n",
    "sum(mem)"
   ]
  },
  {
   "cell_type": "markdown",
   "metadata": {},
   "source": [
    "# day 15"
   ]
  },
  {
   "cell_type": "code",
   "execution_count": null,
   "metadata": {},
   "outputs": [],
   "source": [
    "function play(starting_numbers, duration)\n",
    "    hist = copy(starting_numbers)\n",
    "    for i in 1:duration - length(hist)\n",
    "        if hist[end] in hist[1:end-1]\n",
    "            push!(hist, length(hist) - findlast(hist[1:end-1] .== hist[end]))\n",
    "        else\n",
    "            push!(hist, 0)\n",
    "        end\n",
    "    end\n",
    "    return hist\n",
    "end\n",
    "\n",
    "starting_numbers = [1,12,0,20,8,16]\n",
    "starting_numbers = [0,3,6]\n",
    "\n",
    "\n",
    "@time play(starting_numbers, 2020)\n",
    "\n",
    "# play(starting_numbers, 30000000)[end]"
   ]
  },
  {
   "cell_type": "code",
   "execution_count": null,
   "metadata": {
    "scrolled": true
   },
   "outputs": [],
   "source": [
    "function play3(starting_numbers::Array{Int,1}, N::Int)\n",
    "    lastpos = Dict{Int,Int}()\n",
    "    for (i, v) in enumerate(starting_numbers[1:end-1])\n",
    "        lastpos[v] = i\n",
    "    end\n",
    "    last = starting_numbers[end]\n",
    "    for i = length(starting_numbers) : N-1\n",
    "        if haskey(lastpos, last)\n",
    "            tmp = last\n",
    "            last = i - lastpos[last]\n",
    "            lastpos[tmp] = i\n",
    "        else\n",
    "            lastpos[last] = i\n",
    "            last = 0\n",
    "        end\n",
    "    end\n",
    "    return last\n",
    "end\n",
    "\n",
    "starting_numbers = [1,12,0,20,8,16]\n",
    "\n",
    "@time play3(starting_numbers, 30000000)"
   ]
  },
  {
   "cell_type": "code",
   "execution_count": null,
   "metadata": {},
   "outputs": [],
   "source": [
    "using OffsetArrays\n",
    "\n",
    "\n",
    "function play4(starting_numbers::Array{Int,1}, N::Int)\n",
    "    lastpos = OffsetArray(zeros(Int32, N), 0:N-1)\n",
    "    for (i, v) in enumerate(starting_numbers[1:end-1])\n",
    "        lastpos[v] = i\n",
    "    end\n",
    "    last = starting_numbers[end]\n",
    "    for i = length(starting_numbers) : N-1\n",
    "        if lastpos[last] == 0\n",
    "            lastpos[last] = i\n",
    "            last = 0    \n",
    "        else\n",
    "            tmp = last\n",
    "            last = i - lastpos[last]\n",
    "            lastpos[tmp] = i\n",
    "        end\n",
    "    end\n",
    "    return last\n",
    "end\n",
    "\n",
    "starting_numbers = [1,12,0,20,8,16]\n",
    "\n",
    "@time play4(starting_numbers, 30000000)"
   ]
  },
  {
   "cell_type": "markdown",
   "metadata": {},
   "source": [
    "# day 16"
   ]
  },
  {
   "cell_type": "code",
   "execution_count": null,
   "metadata": {},
   "outputs": [],
   "source": [
    "function parse_invalids(s)\n",
    "    bounds = parse.(Int, match(r\"([0-9]+) or ([0-9]+)\", s).captures)\n",
    "    return bounds[1]+1 : bounds[2]-1\n",
    "end\n",
    "\n",
    "function parse_valids(s)\n",
    "    bounds = parse.(Int, match(r\"([0-9]+)-([0-9]+) or ([0-9]+)-([0-9]+)\", s).captures)\n",
    "    return bounds[1]:bounds[2], bounds[3]:bounds[4]\n",
    "end\n",
    "\n",
    "rules, my_ticket, tickets = split(read(\"./day16/input\", String), \"\\n\\n\")\n",
    "rules = Dict(split.(split(rules, \"\\n\"), \": \"))\n",
    "my_ticket = map(s -> parse(Int, s), split.(split(chomp(my_ticket), \"\\n\")[2], \",\"))\n",
    "tickets = map(a -> parse.(Int, a), split.(split(chomp(tickets), \"\\n\")[2:end], \",\"))\n",
    "\n",
    "valid_rules = Dict(r => vcat(parse_valids(s)...) for (r, s) in rules)\n",
    "valid_ranges = Set(vcat([r for (k, r) in valid_rules]...))\n",
    "\n",
    "error_rate = 0\n",
    "valid_tickets = []\n",
    "for ticket in tickets\n",
    "    invalid_index = findfirst(map(n -> n in valid_ranges, ticket) .== 0)\n",
    "    if isnothing(invalid_index) == false\n",
    "        error_rate += ticket[invalid_index]\n",
    "    else\n",
    "        push!(valid_tickets, ticket)\n",
    "    end\n",
    "end\n",
    "\n",
    "@show error_rate\n",
    "\n",
    "\n",
    "\n",
    "tickets_mat = hcat(valid_tickets...)'\n",
    "\n",
    "function find_valid_mapping(possible_mappings)\n",
    "    pm = copy(possible_mappings)\n",
    "    valid_mapping = Dict()\n",
    "    iter_order = Dict(length(v) => k for (k, v) in pm)\n",
    "    for i in 1:length(iter_order)\n",
    "        m = pop!(pm, iter_order[i])[1]\n",
    "        valid_mapping[m] = iter_order[i]\n",
    "        pm = Dict(k => filter(i -> i!=m, v) for (k, v) in pm)\n",
    "    end\n",
    "    \n",
    "    return valid_mapping\n",
    "end\n",
    "\n",
    "possible_mappings = Dict()\n",
    "valid_mapping = Dict()\n",
    "\n",
    "for (k, v) in valid_rules\n",
    "    valid_pos = [ all(in.(tickets_mat[:,i], (valid_rules[k],))) for i in 1:size(tickets_mat)[2] ]\n",
    "    possible_mappings[k] = findall(valid_pos)\n",
    "end\n",
    "\n",
    "valid_mapping = find_valid_mapping(possible_mappings)\n",
    "\n",
    "score = 1\n",
    "for (pos, field) in enumerate(my_ticket)\n",
    "    if haskey(valid_mapping, pos) \n",
    "        if (split(valid_mapping[pos], \" \")[1] == \"departure\")\n",
    "        score *= field\n",
    "        end\n",
    "    end\n",
    "end\n",
    "@show score"
   ]
  },
  {
   "cell_type": "markdown",
   "metadata": {},
   "source": [
    "# day 17"
   ]
  },
  {
   "cell_type": "code",
   "execution_count": 16,
   "metadata": {},
   "outputs": [
    {
     "name": "stdout",
     "output_type": "stream",
     "text": [
      "  1.319280 seconds (4.00 M allocations: 198.792 MiB, 8.97% gc time)\n"
     ]
    },
    {
     "data": {
      "text/plain": [
       "86"
      ]
     },
     "execution_count": 16,
     "metadata": {},
     "output_type": "execute_result"
    }
   ],
   "source": [
    "using OffsetArrays\n",
    "\n",
    "\n",
    "function get_init(path)\n",
    "    input = readlines(path)\n",
    "    init = hcat([map(i -> i == '#' ? 1 : 0, collect(s)) for s in input]...)\n",
    "    return init\n",
    "end\n",
    "\n",
    "function initialize(init::AbstractArray{Int}, dim::Int, N::Int)\n",
    "    dims = fill(N, dim)\n",
    "    A = OffsetArray(falses(dims...), -cld.(dims, 2)...)\n",
    "    init = reshape(init, Val(dim))\n",
    "    init_centered = OffsetArray(init, -cld.(collect(size(init)), 2)...)\n",
    "    init_axes = axes(init_centered)\n",
    "        \n",
    "    A_init = view(A, init_axes...)\n",
    "    A_init[:] = init_centered\n",
    "    \n",
    "    inds = CartesianIndices(init_centered)\n",
    "    i_min = first(inds)\n",
    "    i_max = last(inds)\n",
    "    i1 = oneunit(i_min)\n",
    "\n",
    "    return @view A[i_min-i1 : i_max+i1]\n",
    "end\n",
    "\n",
    "function apply_rules(el::Bool, agg::Int)\n",
    "    if el == 1\n",
    "        return agg in 3:4 ? 1 : 0\n",
    "    else\n",
    "        return agg == 3 ? 1 : 0\n",
    "    end\n",
    "end\n",
    "\n",
    "function evolve!(A::AbstractArray{Bool})\n",
    "    \"\"\"works with arrays and views\"\"\"\n",
    "    A_new = similar(A) # does not inherit custom indices\n",
    "    inds = CartesianIndices(A)\n",
    "    i_min = first(inds)\n",
    "    i_max = last(inds)\n",
    "    i1 = oneunit(i_min)\n",
    "    for i in inds\n",
    "        s = zero(eltype(A))\n",
    "        for j in max(i-i1, i_min) : min(i+i1, i_max)\n",
    "            s += A[j]\n",
    "        end\n",
    "        A_new[i] = apply_rules(A[i], s)\n",
    "    end\n",
    "    A[:] = A_new\n",
    "    return A\n",
    "end\n",
    "\n",
    "function get_active(A::AbstractArray{Bool})\n",
    "    \"\"\"returns active indices of array, or parent array of view\"\"\"\n",
    "    if typeof(A) <: SubArray\n",
    "        inds = parentindices(A)[1] # not sure why first element\n",
    "        A = parent(A)\n",
    "    else\n",
    "        inds = CartesianIndices(A)\n",
    "    end\n",
    "    active_inds = []\n",
    "    for i in inds\n",
    "        if A[i] == 1\n",
    "            push!(active_inds, i)\n",
    "        end\n",
    "    end\n",
    "    return active_inds\n",
    "end\n",
    "\n",
    "function adjust_size(A::AbstractArray{Bool})\n",
    "    active_inds = get_active(A)\n",
    "        \n",
    "    if typeof(A) <: SubArray\n",
    "        A = parent(A)\n",
    "    end\n",
    "    \n",
    "    i_min = minimum(active_inds)\n",
    "    i_max = maximum(active_inds)\n",
    "    i1 = oneunit(i_min)    \n",
    "\n",
    "    return @view A[i_min-i1:i_max+i1]\n",
    "end\n",
    "\n",
    "\n",
    "function run(init::AbstractArray{Int}, dim::Int, N::Int, t::Int)\n",
    "    A = initialize(init, dim, N)\n",
    "    active_t = Vector{Array{Any}}(undef, t)\n",
    "    for i in 1:t\n",
    "        A = adjust_size(A)\n",
    "        evolve!(A)\n",
    "        active_t[i] = get_active(A)\n",
    "    end\n",
    "    return A, active_t\n",
    "end\n",
    "\n",
    "\n",
    "init = get_init(\"./day17/input\")\n",
    "@time A, active_t = run(init, 2, 50, 50)\n",
    "length(get_active(A))\n"
   ]
  },
  {
   "cell_type": "code",
   "execution_count": null,
   "metadata": {},
   "outputs": [],
   "source": [
    "using Plots\n",
    "plotly()\n",
    "heatmap(z=[1 2 3;3 2 1;2 3 1])\n",
    "# plot(length.(active_t))"
   ]
  },
  {
   "cell_type": "code",
   "execution_count": null,
   "metadata": {},
   "outputs": [],
   "source": [
    "function initialize(init::AbstractArray{Int}, dim::Int, N::Int)\n",
    "    dims = fill(N, dim)\n",
    "    A = OffsetArray(falses(dims...), -cld.(dims, 2)...)\n",
    "    init = reshape(init, Val(dim))\n",
    "    init_centered = OffsetArray(init, -cld.(collect(size(init)), 2)...)\n",
    "    init_axes = axes(init_centered)\n",
    "        \n",
    "    A_init = view(A, init_axes...)\n",
    "    A_init[:] = init_centered\n",
    "    \n",
    "    inds = CartesianIndices(init_centered)\n",
    "    i_min = first(inds)\n",
    "    i_max = last(inds)\n",
    "    i1 = oneunit(i_min)\n",
    "\n",
    "    return @view A[i_min-i1 : i_max+i1]\n",
    "end\n",
    "\n",
    "function evolve!(A_view::AbstractArray{Bool})\n",
    "    \"\"\"adjust size in same cycle\n",
    "    still buggy...\"\"\"\n",
    "    inds = parentindices(A_view)[1] # not sure why first element\n",
    "    A = parent(A_view)\n",
    "\n",
    "    i_min = first(inds)\n",
    "    i_max = last(inds)\n",
    "    i1 = oneunit(i_min)\n",
    "    \n",
    "    A_new = similar(A) # does not inherit custom indices\n",
    "    fill!(A_new, zero(eltype(A)))\n",
    "    \n",
    "    active_inds = []\n",
    "    for i in i_min-i1 : i_max+i1\n",
    "        s = zero(eltype(A))\n",
    "        for j in i-i1 : i+i1\n",
    "            s += A[j]\n",
    "        end\n",
    "        Ai = A[i]\n",
    "        A_new[i] = apply_rules(Ai, s)\n",
    "        \n",
    "        if Ai == 1\n",
    "            push!(active_inds, i)\n",
    "        end\n",
    "    end\n",
    "    A[:] = A_new\n",
    "    \n",
    "    i_min = minimum(active_inds) - i1\n",
    "    i_max = maximum(active_inds) + i1\n",
    "\n",
    "    return view(A, i_min:i_max), active_inds\n",
    "\n",
    "end\n",
    "\n",
    "function run(init::AbstractArray{Int}, dim::Int, N::Int, t::Int)\n",
    "    A = initialize(init, dim, N)\n",
    "    active_inds = []\n",
    "    for i in 1:t\n",
    "        A, active_inds = evolve!(A)\n",
    "    end\n",
    "    return A, active_inds\n",
    "end\n",
    "\n",
    "init = get_init(\"./day17/test\")\n",
    "\n",
    "@time A, ai = run(init, 3, 30, 6)\n",
    "length(ai)\n",
    "A\n"
   ]
  },
  {
   "cell_type": "markdown",
   "metadata": {},
   "source": [
    "# day 18"
   ]
  },
  {
   "cell_type": "code",
   "execution_count": 13,
   "metadata": {},
   "outputs": [
    {
     "name": "stdout",
     "output_type": "stream",
     "text": [
      "sum(eval.(Meta.parse.(data))) = 2743012121210\n",
      "sum(eval.(Meta.parse.(data))) = 65658760783597\n"
     ]
    },
    {
     "data": {
      "text/plain": [
       "65658760783597"
      ]
     },
     "execution_count": 13,
     "metadata": {},
     "output_type": "execute_result"
    }
   ],
   "source": [
    "import Base.∘ # Base.operator_precedence(:∘) same as :*\n",
    "\n",
    "∘(a::Integer, b::Integer) = a + b\n",
    "⊕(a::Integer, b::Integer) = a * b\n",
    "\n",
    "input = readlines(\"./day18/input\")\n",
    "data = replace.(input, \"+\" => \"∘\")\n",
    "@show sum(eval.(Meta.parse.(data)))\n",
    "\n",
    "data = replace.(data, \"*\" => \"⊕\")\n",
    "@show sum(eval.(Meta.parse.(data)))"
   ]
  },
  {
   "cell_type": "markdown",
   "metadata": {},
   "source": [
    "# day 19"
   ]
  },
  {
   "cell_type": "code",
   "execution_count": 2,
   "metadata": {},
   "outputs": [
    {
     "name": "stdout",
     "output_type": "stream",
     "text": [
      " 47.828751 seconds (1.41 G allocations: 63.109 GiB, 8.82% gc time)\n"
     ]
    },
    {
     "data": {
      "text/plain": [
       "136"
      ]
     },
     "execution_count": 2,
     "metadata": {},
     "output_type": "execute_result"
    }
   ],
   "source": [
    "function parse_input(path)\n",
    "    rules, data = split(read(path, String), \"\\n\\n\")\n",
    "    data = split(chomp(data), \"\\n\")\n",
    "\n",
    "    rules = split(rules, \"\\n\")\n",
    "    rules = Dict(split.(rules, \": \"))\n",
    "#     rules = Dict(k => convert(Array{Array{Any,1},1}, split.(split(v, \" | \"), \" \")) for (k,v) in rules)\n",
    "    \n",
    "    function parse_arr(s) \n",
    "        p = string(\"[\" * replace(replace(s, r\"(\\d+ \\d+|\\d+)\" => s\"[\\1]\"), \" | \" => \" , \") * \"]\") |> Meta.parse |> eval\n",
    "        if typeof(p[1]) == String\n",
    "            p = p[1]\n",
    "        else\n",
    "            p = vec.(p)\n",
    "        end\n",
    "        return p\n",
    "    end\n",
    "    \n",
    "    rules = Dict(parse(Int, k) => parse_arr(v) for (k, v) in rules)\n",
    "    \n",
    "    return rules, data\n",
    "end\n",
    "\n",
    "function replace_recursive(arr::Union{Array{Array{Int,1},1},String}, rules)\n",
    "    tree = Array{Array{Any,1},1}(copy(arr))\n",
    "    for (r1, ruleset) in enumerate(arr)\n",
    "        for (r2, rule) in enumerate(ruleset)\n",
    "            subrule = rules[rule]\n",
    "            if typeof(subrule) != String\n",
    "                tree[r1][r2] = replace_recursive(subrule, rules)\n",
    "            else\n",
    "                tree[r1][r2] = subrule\n",
    "            end\n",
    "        end \n",
    "    end\n",
    "    return tree\n",
    "end\n",
    "\n",
    "\n",
    "function create_valids(tree)::Array{Any,1}\n",
    "    choices = []\n",
    "    substrs = []\n",
    "    for choice in tree\n",
    "        tmp = []\n",
    "        for subtree in choice\n",
    "            if typeof(subtree) != String\n",
    "                push!(tmp, create_valids(subtree))\n",
    "            else\n",
    "                push!(tmp, [subtree])\n",
    "            end\n",
    "        end\n",
    "        if length(tmp) == 2\n",
    "            substrs = [s1*s2 for s1 in tmp[1] for s2 in tmp[2]]\n",
    "        else\n",
    "            substrs = [s1 for s1 in tmp[1]]\n",
    "        end\n",
    "        append!(choices, substrs)\n",
    "    end\n",
    "    \n",
    "    return choices\n",
    "end\n",
    "\n",
    "rules, data = parse_input(\"./day19/input\")\n",
    "\n",
    "tree = replace_recursive(rules[0], rules)\n",
    "valids = create_valids(tree)\n",
    "@time valid_data = in.(data, (valids,))\n",
    "\n",
    "sum(valid_data)"
   ]
  },
  {
   "cell_type": "markdown",
   "metadata": {},
   "source": [
    "# day 20"
   ]
  },
  {
   "cell_type": "code",
   "execution_count": 104,
   "metadata": {
    "scrolled": true
   },
   "outputs": [
    {
     "name": "stdout",
     "output_type": "stream",
     "text": [
      "(corners |> keys) |> prod = 16937516456219\n"
     ]
    },
    {
     "data": {
      "text/plain": [
       "16937516456219"
      ]
     },
     "execution_count": 104,
     "metadata": {},
     "output_type": "execute_result"
    }
   ],
   "source": [
    "using DataStructures\n",
    "\n",
    "mutable struct Tile\n",
    "    id::Int\n",
    "    mat::BitArray{2}\n",
    "    borders::BitArray{2}\n",
    "    placed_borders::Vector{Int}\n",
    "    Tile(id, mat) = new(id, mat, [mat[:,1] mat[1,:] mat[:,end] mat[end,:] mat[end:-1:1,1] mat[1,end:-1:1] mat[end:-1:1,end] mat[end,end:-1:1]])\n",
    "end\n",
    "\n",
    "function get_tiles(path)\n",
    "    input = split.(split(chop(read(path, String), tail=2), \"\\n\\n\"), \"\\n\")\n",
    "    tiles = Dict{Int, Tile}()\n",
    "    for t in input\n",
    "        id = parse(Int, t[1][6:9])\n",
    "        mat = BitArray(hcat([map(i -> i == '#' ? true : false, collect(s)) for s in t[2:end]]...))\n",
    "        tiles[id] = Tile(id, mat)\n",
    "    end\n",
    "    return tiles\n",
    "end\n",
    "\n",
    "function get_border_tiles(tiles)\n",
    "    corners = DefaultDict{Int, Vector{Int}}(Vector{Int})\n",
    "    borders = DefaultDict{Int, Vector{Int}}(Vector{Int})\n",
    "    \n",
    "    for (id, tile) in tiles\n",
    "        for (ci, c) in enumerate(eachcol(tile.borders))\n",
    "            match = false\n",
    "            for (_, tile2) in tiles\n",
    "                if tile != tile2\n",
    "                    for c2 in eachcol(tile2.borders)\n",
    "                        if c == c2\n",
    "                            match = true\n",
    "                            break\n",
    "                        end\n",
    "                    end\n",
    "                    if match == true\n",
    "                        break\n",
    "                    end\n",
    "                end\n",
    "            end\n",
    "            if match == false\n",
    "                if length(borders[id]) == 2\n",
    "                    if !haskey(corners, id)\n",
    "                        corners[id] = borders[id]\n",
    "                    end\n",
    "                    push!(corners[id], ci)\n",
    "                else\n",
    "                    push!(borders[id], ci)\n",
    "                end\n",
    "            end\n",
    "        end\n",
    "        if haskey(corners, id)\n",
    "            delete!(borders, id)\n",
    "        end\n",
    "    end\n",
    "    \n",
    "    return borders, corners\n",
    "end\n",
    "\n",
    "tiles = get_tiles(\"./day20/input\")\n",
    "\n",
    "borders, corners = get_border_tiles(tiles)\n",
    "\n",
    "@show corners |> keys |> prod"
   ]
  },
  {
   "cell_type": "code",
   "execution_count": 105,
   "metadata": {},
   "outputs": [
    {
     "data": {
      "text/plain": [
       "DefaultDict{Int64,Array{Int64,1},DataType} with 4 entries:\n",
       "  2347 => [1, 2, 5, 6]\n",
       "  2281 => [1, 2, 5, 6]\n",
       "  1811 => [3, 4, 7, 8]\n",
       "  1747 => [1, 2, 5, 6]"
      ]
     },
     "execution_count": 105,
     "metadata": {},
     "output_type": "execute_result"
    }
   ],
   "source": [
    "corners"
   ]
  },
  {
   "cell_type": "code",
   "execution_count": 106,
   "metadata": {},
   "outputs": [
    {
     "data": {
      "text/plain": [
       "4-element Array{Int64,1}:\n",
       " 1\n",
       " 2\n",
       " 5\n",
       " 6"
      ]
     },
     "execution_count": 106,
     "metadata": {},
     "output_type": "execute_result"
    }
   ],
   "source": [
    "pop!(corners, 2347)"
   ]
  },
  {
   "cell_type": "code",
   "execution_count": null,
   "metadata": {},
   "outputs": [],
   "source": [
    "function place_border_tile(tiles, borders, corners, id_map)\n",
    "    \n",
    "end\n",
    "\n",
    "function place_corner_tile(tiles)\n",
    "    \n",
    "end\n",
    "    \n",
    "    \n",
    "len = Int(sqrt(length(tiles)))\n",
    "id_map = Array{Int,2}(undef, (len, len))\n",
    "    \n",
    "id_map[1,1] = 2347\n",
    "pop!(corners, 2347)\n",
    "tiles[2347].placed_borders = [1,2,3,4]"
   ]
  },
  {
   "cell_type": "code",
   "execution_count": 102,
   "metadata": {},
   "outputs": [
    {
     "name": "stdout",
     "output_type": "stream",
     "text": [
      "(id, ci, c) = (1601, 4, Bool[0, 0, 1, 0, 1, 1, 0, 0, 0, 1])\n"
     ]
    }
   ],
   "source": [
    "len = Int(sqrt(length(tiles)))\n",
    "id_map = Array{Int,2}(undef, (len, len))\n",
    "\n",
    "init = Tuple(pop!(corners))\n",
    "init_tile = tiles[init[1]]\n",
    "\n",
    "for (id, b) in borders\n",
    "    b_tile = tiles[id]\n",
    "    for (ci, c) in enumerate(eachcol(b_tile.borders))\n",
    "#         if !(ci in b)\n",
    "            if init_tile.borders[:,3] == c\n",
    "                @show id, ci, c\n",
    "            end\n",
    "#         end\n",
    "    end\n",
    "end\n",
    "    "
   ]
  },
  {
   "cell_type": "code",
   "execution_count": null,
   "metadata": {},
   "outputs": [],
   "source": [
    "# transformations\n",
    "[1 2 3 4]\n",
    "[2 3 4 1]\n",
    "[3 4 1 2]\n",
    "[4 1 2 3]\n",
    "\n",
    "[5 1 7 4]\n",
    "[1 6 3 8]\n",
    "\n",
    "[2 1 4 3]\n",
    "[8 7 6 5]"
   ]
  },
  {
   "cell_type": "markdown",
   "metadata": {},
   "source": [
    "# day 22"
   ]
  },
  {
   "cell_type": "code",
   "execution_count": null,
   "metadata": {},
   "outputs": [],
   "source": [
    "input = map(s -> s[11:end], split(chomp(read(\"./day22/input\", String)), \"\\n\\n\"))\n",
    "deck_p1, deck_p2 = split.(input, \"\\n\")\n",
    "deck_p1 = parse.(Int, deck_p1)\n",
    "deck_p2 = parse.(Int, deck_p2)"
   ]
  },
  {
   "cell_type": "code",
   "execution_count": null,
   "metadata": {},
   "outputs": [],
   "source": [
    "for r in eachrow([deck_p1 deck_p2])\n",
    "    \n",
    "end"
   ]
  },
  {
   "cell_type": "code",
   "execution_count": null,
   "metadata": {},
   "outputs": [],
   "source": [
    "maximum.([deck_p1 deck_p2])"
   ]
  },
  {
   "cell_type": "code",
   "execution_count": null,
   "metadata": {},
   "outputs": [],
   "source": [
    "deck_p1[deck_p1 - deck_p2 .> 0]"
   ]
  },
  {
   "cell_type": "code",
   "execution_count": null,
   "metadata": {},
   "outputs": [],
   "source": [
    "function play_combat(deck_p1, deck_p2)\n",
    "    while length(deck_p1) * length(deck_p2) > 0\n",
    "        if deck_p1[1] > deck_p2[1]\n",
    "            deck_p1 = append!(deck_p1[2:end], [deck_p1[1], deck_p2[1]])\n",
    "            deck_p2 = deck_p2[2:end]\n",
    "        elseif deck_p1[1] < deck_p2[1]\n",
    "            deck_p2 = append!(deck_p2[2:end], [deck_p2[1], deck_p1[1]])\n",
    "            deck_p1 = deck_p1[2:end]\n",
    "        end\n",
    "    end\n",
    "    if length(deck_p1) > 0\n",
    "        return deck_p1\n",
    "    else\n",
    "        return deck_p2\n",
    "    end\n",
    "end\n",
    "    \n",
    "function score(deck)\n",
    "    return sum([pos*val for (pos, val) in enumerate(reverse(deck))])\n",
    "end\n",
    "\n",
    "score(play_combat(deck_p1, deck_p2))"
   ]
  },
  {
   "cell_type": "code",
   "execution_count": null,
   "metadata": {},
   "outputs": [],
   "source": []
  }
 ],
 "metadata": {
  "kernelspec": {
   "display_name": "Julia 1.4.1",
   "language": "julia",
   "name": "julia-1.4"
  },
  "language_info": {
   "file_extension": ".jl",
   "mimetype": "application/julia",
   "name": "julia",
   "version": "1.4.1"
  }
 },
 "nbformat": 4,
 "nbformat_minor": 4
}
