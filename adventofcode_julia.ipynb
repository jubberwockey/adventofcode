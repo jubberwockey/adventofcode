{
 "cells": [
  {
   "cell_type": "markdown",
   "metadata": {},
   "source": [
    "# day 1"
   ]
  },
  {
   "cell_type": "code",
   "execution_count": 25,
   "metadata": {},
   "outputs": [
    {
     "data": {
      "text/plain": [
       "2-element Array{Tuple{Int64,Int64,Int64},1}:\n",
       " (1312, 708, 928896)\n",
       " (708, 1312, 928896)"
      ]
     },
     "execution_count": 25,
     "metadata": {},
     "output_type": "execute_result"
    }
   ],
   "source": [
    "data = parse.(Int, readlines(\"./day1/input\"))\n",
    "[(i, j, i*j) for i in data for j in data if i+j == 2020]"
   ]
  },
  {
   "cell_type": "code",
   "execution_count": 24,
   "metadata": {},
   "outputs": [
    {
     "data": {
      "text/plain": [
       "6-element Array{NTuple{4,Int64},1}:\n",
       " (798, 664, 558, 295668576)\n",
       " (798, 558, 664, 295668576)\n",
       " (664, 798, 558, 295668576)\n",
       " (664, 558, 798, 295668576)\n",
       " (558, 798, 664, 295668576)\n",
       " (558, 664, 798, 295668576)"
      ]
     },
     "execution_count": 24,
     "metadata": {},
     "output_type": "execute_result"
    }
   ],
   "source": [
    "[(i, j, k, i*j*k) for i in data for j in data for k in data if i+j+k == 2020]"
   ]
  },
  {
   "cell_type": "markdown",
   "metadata": {},
   "source": [
    "# day 2"
   ]
  },
  {
   "cell_type": "code",
   "execution_count": 61,
   "metadata": {
    "collapsed": true
   },
   "outputs": [
    {
     "data": {
      "text/plain": [
       "1000-element Array{Array{Any,1},1}:\n",
       " [6, 7, 'w', \"wwhmzwtwwk\"]\n",
       " [10, 12, 'q', \"qqqqqqqqqqqdqqq\"]\n",
       " [16, 17, 'd', \"ddddgdddddkddddsxddd\"]\n",
       " [2, 4, 'q', \"shbqwqpps\"]\n",
       " [3, 4, 'q', \"qkfq\"]\n",
       " [2, 10, 'm', \"bkdrmcfdhmr\"]\n",
       " [13, 19, 's', \"blccvhsgsnsssqszssm\"]\n",
       " [1, 3, 'l', \"qlxllhl\"]\n",
       " [4, 6, 'h', \"hhhqhhh\"]\n",
       " [15, 17, 'l', \"jrtllrlllllmmlllg\"]\n",
       " [11, 12, 'n', \"bnzlnnnnbnntnnnc\"]\n",
       " [1, 7, 'p', \"pppvppjppmptp\"]\n",
       " [5, 6, 't', \"tttnht\"]\n",
       " ⋮\n",
       " [4, 13, 'j', \"sjjjjjjjjjjjtjj\"]\n",
       " [7, 8, 'r', \"fztxkwhrrxnnn\"]\n",
       " [5, 6, 'r', \"rrqrrrr\"]\n",
       " [1, 5, 'q', \"qqqqvqqq\"]\n",
       " [8, 14, 't', \"ttvpttkptthtttrcj\"]\n",
       " [2, 7, 'n', \"znjqsvpstfjph\"]\n",
       " [6, 7, 'l', \"llllllnl\"]\n",
       " [19, 20, 'c', \"vwltcctcmcdccrqdccwc\"]\n",
       " [4, 15, 'd', \"bfkxfrsznfkdzpjmbp\"]\n",
       " [12, 15, 'q', \"qqqqqqqqqqqvqqqq\"]\n",
       " [6, 10, 't', \"tttttbttktt\"]\n",
       " [1, 18, 'c', \"ccdczcvccvclcccvkccb\"]"
      ]
     },
     "execution_count": 61,
     "metadata": {},
     "output_type": "execute_result"
    }
   ],
   "source": [
    "input = split.(readlines(\"./day2/input\"))\n",
    "data = [vcat(parse.(Int, split(i[1], \"-\")), [i[2][1], i[3]]) for i in input]"
   ]
  },
  {
   "cell_type": "code",
   "execution_count": 72,
   "metadata": {},
   "outputs": [
    {
     "data": {
      "text/plain": [
       "477"
      ]
     },
     "execution_count": 72,
     "metadata": {},
     "output_type": "execute_result"
    }
   ],
   "source": [
    "sum([ i[1] <= count(c -> (c == i[3]), i[4]) <= i[2] for i in data])"
   ]
  },
  {
   "cell_type": "code",
   "execution_count": 76,
   "metadata": {},
   "outputs": [
    {
     "data": {
      "text/plain": [
       "686"
      ]
     },
     "execution_count": 76,
     "metadata": {},
     "output_type": "execute_result"
    }
   ],
   "source": [
    "sum([ xor(i[4][i[1]] == i[3], i[4][i[2]] == i[3]) for i in data])"
   ]
  },
  {
   "cell_type": "markdown",
   "metadata": {},
   "source": [
    "# day 3"
   ]
  },
  {
   "cell_type": "code",
   "execution_count": 138,
   "metadata": {},
   "outputs": [
    {
     "name": "stdout",
     "output_type": "stream",
     "text": [
      "79\n",
      "234\n",
      "72\n",
      "91\n",
      "48\n"
     ]
    },
    {
     "data": {
      "text/plain": [
       "5813773056"
      ]
     },
     "execution_count": 138,
     "metadata": {},
     "output_type": "execute_result"
    }
   ],
   "source": [
    "input = readlines(\"./day3/input\")\n",
    "data = input\n",
    "\n",
    "function trees_hit(data::Array, right::Int=3, down::Int=1)::Int\n",
    "    row = 1\n",
    "    col = 1\n",
    "    maxcols = length(data[1])\n",
    "    maxrows = length(data)-1\n",
    "    trees = 0\n",
    "\n",
    "    for i = 1:maxrows/down\n",
    "        row = row + down\n",
    "        col = col + right\n",
    "        if col > maxcols\n",
    "            col = col - maxcols\n",
    "        end\n",
    "        if data[row][col] == '#'\n",
    "            trees += 1\n",
    "        end\n",
    "    end\n",
    "    return trees\n",
    "end\n",
    "\n",
    "res = 1\n",
    "for (right, down) = [(1,1), (3,1), (5,1), (7,1), (1,2)]\n",
    "    th = trees_hit(input, right, down)\n",
    "    println(th)\n",
    "    res *= th\n",
    "end\n",
    "\n",
    "res"
   ]
  },
  {
   "cell_type": "markdown",
   "metadata": {},
   "source": [
    "# day 4"
   ]
  },
  {
   "cell_type": "code",
   "execution_count": 52,
   "metadata": {
    "scrolled": true
   },
   "outputs": [
    {
     "data": {
      "text/plain": [
       "239"
      ]
     },
     "execution_count": 52,
     "metadata": {},
     "output_type": "execute_result"
    }
   ],
   "source": [
    "input = replace.(split(read(\"./day4/input\", String), \"\\n\\n\"), r\"\\n\" => s\" \")\n",
    "\n",
    "data = [split.(pp) for pp in input]\n",
    "data = [Dict(split.(pp, \":\")) for pp in data]\n",
    "\n",
    "valid_fields = [\"hcl\", \"ecl\", \"pid\", \"cid\", \"iyr\", \"eyr\", \"hgt\", \"byr\"]\n",
    "sum([issubset(setdiff(valid_fields, keys(pp)), [\"cid\"]) for pp in data])"
   ]
  },
  {
   "cell_type": "code",
   "execution_count": null,
   "metadata": {},
   "outputs": [],
   "source": []
  },
  {
   "cell_type": "markdown",
   "metadata": {},
   "source": [
    "# day 5"
   ]
  },
  {
   "cell_type": "code",
   "execution_count": 173,
   "metadata": {
    "scrolled": true
   },
   "outputs": [],
   "source": [
    "input = readlines(\"./day5/input\");"
   ]
  },
  {
   "cell_type": "code",
   "execution_count": 187,
   "metadata": {},
   "outputs": [
    {
     "data": {
      "text/plain": [
       "938"
      ]
     },
     "execution_count": 187,
     "metadata": {},
     "output_type": "execute_result"
    }
   ],
   "source": [
    "function parse_seat(seat_str, high='B')\n",
    "    len = length(seat_str)\n",
    "    coeffs = [c == high ? 1 : 0 for c in seat_str]\n",
    "    return sum([c * 2^(len-pow) for (pow, c) in enumerate(coeffs)])\n",
    "end\n",
    "\n",
    "function seat_id(seat_str)\n",
    "    return 8 * parse_seat(seat_str[1:7]) + parse_seat(seat_str[8:10], 'R')\n",
    "    \n",
    "end\n",
    "\n",
    "seat_ids = seat_id.(input)\n",
    "maximum(seat_ids)"
   ]
  },
  {
   "cell_type": "code",
   "execution_count": 188,
   "metadata": {},
   "outputs": [
    {
     "data": {
      "text/plain": [
       "696"
      ]
     },
     "execution_count": 188,
     "metadata": {},
     "output_type": "execute_result"
    }
   ],
   "source": [
    "function find_seat(seat_ids)\n",
    "    i1 = 0\n",
    "    for i in sort(seat_ids)\n",
    "        if i == i1+2\n",
    "            return i-1\n",
    "        end\n",
    "        i1 = i\n",
    "    end\n",
    "end\n",
    "    \n",
    "find_seat(seat_ids)"
   ]
  },
  {
   "cell_type": "markdown",
   "metadata": {},
   "source": [
    "# day 6"
   ]
  },
  {
   "cell_type": "code",
   "execution_count": 76,
   "metadata": {},
   "outputs": [
    {
     "name": "stdout",
     "output_type": "stream",
     "text": [
      "6170, 2947"
     ]
    }
   ],
   "source": [
    "using Test\n",
    "\n",
    "function read_input(path)\n",
    "    # chomp trailing \\n, otherwise interpreted as empty set\n",
    "    input = chomp(read(path, String))\n",
    "    data = split(input, \"\\n\\n\")\n",
    "    return data\n",
    "end\n",
    "\n",
    "function any_persons_answers(data)\n",
    "    group_answers = delete!.(Set.(data), '\\n')\n",
    "    return group_answers\n",
    "end\n",
    "\n",
    "function all_persons_answers(data)\n",
    "    person_answers = split.(data, '\\n')\n",
    "    every_person_answers = [ intersect(Set.(i)...) for i in person_answers ]\n",
    "    return every_person_answers\n",
    "end\n",
    "\n",
    "sum_count(answers) = sum(length.(answers))\n",
    "\n",
    "@test sum_count(any_persons_answers(read_input(\"./day6/test\"))) == 11\n",
    "@test sum_count(all_persons_answers(read_input(\"./day6/test\"))) == 6\n",
    "\n",
    "data = read_input(\"./day6/input\")\n",
    "\n",
    "\n",
    "print(\"$(sum_count(any_persons_answers(data))), $(sum_count(all_persons_answers(data)))\")"
   ]
  },
  {
   "cell_type": "markdown",
   "metadata": {},
   "source": [
    "# day 7"
   ]
  },
  {
   "cell_type": "markdown",
   "metadata": {},
   "source": [
    "# day 8"
   ]
  },
  {
   "cell_type": "code",
   "execution_count": 41,
   "metadata": {},
   "outputs": [
    {
     "name": "stdout",
     "output_type": "stream",
     "text": [
      "Infinite Loop. acc=5, idx=2\n"
     ]
    },
    {
     "data": {
      "text/plain": [
       "(1, 5)"
      ]
     },
     "execution_count": 41,
     "metadata": {},
     "output_type": "execute_result"
    }
   ],
   "source": [
    "mutable struct ProgramInstance\n",
    "    code::Array{Any, 2}\n",
    "    acc::Int\n",
    "    idx::Int\n",
    "    idx_history::Array{Int, 1}\n",
    "    ProgramInstance(code, acc, idx) = new(code, acc, idx, [idx])\n",
    "end\n",
    "\n",
    "function Base.show(io::IO, prog::ProgramInstance)\n",
    "   print(\"idx=$(prog.idx), acc=$(prog.acc)\") \n",
    "end\n",
    "\n",
    "\n",
    "function read_input(path)\n",
    "    input = readlines(path)\n",
    "    code = split.(input)\n",
    "    code = Array{Any, 2}(hcat(split.(input)...))\n",
    "    code[2,:] = parse.(Int, code[2,:])\n",
    "    return permutedims(code)\n",
    "end\n",
    "\n",
    "function parse_code(prog::ProgramInstance)\n",
    "    cmd, val = prog.code[prog.idx, :]\n",
    "    if cmd == \"jmp\"\n",
    "        prog.idx += val\n",
    "    elseif cmd == \"acc\"\n",
    "        prog.acc += val\n",
    "        prog.idx += 1\n",
    "    elseif cmd == \"nop\"\n",
    "        prog.idx += 1\n",
    "    end\n",
    "#     return prog\n",
    "end\n",
    "\n",
    "function debug(prog)\n",
    "    if prog.idx in Set(prog.idx_history)\n",
    "#             print(\"acc=$acc, $(code[idx,1])=$(code[idx,2]), $idx, $idx_history\")\n",
    "        println(\"Infinite Loop. acc=$(prog.acc), idx=$(prog.idx)\")\n",
    "        return 1\n",
    "    elseif prog.idx <= 0\n",
    "        println(\"Negative index. acc=$(prog.acc), idx=$(prog.idx)\")\n",
    "        return 1\n",
    "    elseif prog.idx > size(code, 1)\n",
    "        println(\"Success! acc=$(prog.acc), idx=$(prog.idx)\")\n",
    "        return 0\n",
    "    end\n",
    "    return -1\n",
    "end\n",
    "\n",
    "function run(code)\n",
    "    prog = ProgramInstance(code, 0, 1)\n",
    "    \n",
    "    exit_code = -1\n",
    "    while true\n",
    "        parse_code(prog)\n",
    "        exit_code = debug(prog)\n",
    "        \n",
    "        if exit_code >= 0\n",
    "            break\n",
    "        end\n",
    "\n",
    "        push!(prog.idx_history, prog.idx)\n",
    "    end\n",
    "    \n",
    "    return exit_code, prog.acc\n",
    "end\n",
    "\n",
    "function modify_code(code, idx, to=\"jmp\")\n",
    "    code_copy = copy(code)\n",
    "    code_copy[idx, 1] = to\n",
    "    return code_copy\n",
    "end\n",
    "\n",
    "code = read_input(\"./day8/test\")\n",
    "run(code)"
   ]
  },
  {
   "cell_type": "code",
   "execution_count": 46,
   "metadata": {
    "scrolled": false
   },
   "outputs": [
    {
     "name": "stdout",
     "output_type": "stream",
     "text": [
      "Infinite Loop. acc=2014, idx=375\n",
      "Infinite Loop. acc=1972, idx=74\n",
      "Infinite Loop. acc=2014, idx=375\n",
      "Infinite Loop. acc=1890, idx=375\n",
      "Infinite Loop. acc=2014, idx=375\n",
      "Infinite Loop. acc=2014, idx=375\n",
      "Infinite Loop. acc=2014, idx=375\n",
      "Infinite Loop. acc=1800, idx=375\n",
      "Infinite Loop. acc=2014, idx=375\n",
      "Infinite Loop. acc=2014, idx=375\n",
      "Infinite Loop. acc=2014, idx=375\n",
      "Infinite Loop. acc=1016, idx=375\n",
      "Infinite Loop. acc=2014, idx=375\n",
      "Infinite Loop. acc=2014, idx=375\n",
      "Infinite Loop. acc=2014, idx=375\n",
      "Infinite Loop. acc=1367, idx=375\n",
      "Infinite Loop. acc=2014, idx=375\n",
      "Infinite Loop. acc=2014, idx=375\n",
      "Infinite Loop. acc=1556, idx=375\n",
      "Infinite Loop. acc=2014, idx=375\n",
      "Infinite Loop. acc=2014, idx=375\n",
      "Infinite Loop. acc=958, idx=375\n",
      "Infinite Loop. acc=2014, idx=375\n",
      "Infinite Loop. acc=975, idx=375\n",
      "Infinite Loop. acc=2014, idx=375\n",
      "Infinite Loop. acc=2014, idx=375\n",
      "Infinite Loop. acc=1262, idx=608\n",
      "Infinite Loop. acc=2014, idx=375\n",
      "Infinite Loop. acc=2014, idx=375\n",
      "Infinite Loop. acc=2014, idx=375\n",
      "Infinite Loop. acc=1913, idx=597\n",
      "Infinite Loop. acc=1945, idx=120\n",
      "Infinite Loop. acc=2014, idx=375\n",
      "Infinite Loop. acc=1586, idx=375\n",
      "Infinite Loop. acc=2014, idx=375\n",
      "Infinite Loop. acc=2014, idx=375\n",
      "Infinite Loop. acc=2014, idx=375\n",
      "Infinite Loop. acc=2014, idx=375\n",
      "Infinite Loop. acc=1952, idx=375\n",
      "Infinite Loop. acc=1872, idx=375\n",
      "Infinite Loop. acc=2014, idx=375\n",
      "Infinite Loop. acc=2014, idx=375\n",
      "Infinite Loop. acc=2014, idx=375\n",
      "Infinite Loop. acc=2014, idx=375\n",
      "Infinite Loop. acc=2091, idx=193\n",
      "Infinite Loop. acc=2014, idx=375\n",
      "Infinite Loop. acc=1885, idx=176\n",
      "Infinite Loop. acc=2014, idx=375\n",
      "Infinite Loop. acc=2014, idx=375\n",
      "Infinite Loop. acc=369, idx=608\n",
      "Infinite Loop. acc=2014, idx=375\n",
      "Infinite Loop. acc=2014, idx=375\n",
      "Infinite Loop. acc=2014, idx=375\n",
      "Infinite Loop. acc=2014, idx=375\n",
      "Infinite Loop. acc=2014, idx=375\n",
      "Infinite Loop. acc=2014, idx=375\n",
      "Infinite Loop. acc=2014, idx=375\n",
      "Infinite Loop. acc=2014, idx=375\n",
      "Infinite Loop. acc=2096, idx=280\n",
      "Infinite Loop. acc=2014, idx=375\n",
      "Infinite Loop. acc=1388, idx=375\n",
      "Infinite Loop. acc=2014, idx=375\n",
      "Infinite Loop. acc=2014, idx=375\n",
      "Infinite Loop. acc=738, idx=608\n",
      "Infinite Loop. acc=1897, idx=375\n",
      "Infinite Loop. acc=2014, idx=375\n",
      "Infinite Loop. acc=2014, idx=375\n",
      "Infinite Loop. acc=2014, idx=375\n",
      "Infinite Loop. acc=2014, idx=375\n",
      "Infinite Loop. acc=2014, idx=375\n",
      "Infinite Loop. acc=1989, idx=375\n",
      "Infinite Loop. acc=2057, idx=375\n",
      "Infinite Loop. acc=2014, idx=375\n",
      "Infinite Loop. acc=2014, idx=375\n",
      "Infinite Loop. acc=1028, idx=246\n",
      "Infinite Loop. acc=2014, idx=375\n",
      "Infinite Loop. acc=2014, idx=375\n",
      "Infinite Loop. acc=2014, idx=375\n",
      "Infinite Loop. acc=2014, idx=375\n",
      "Infinite Loop. acc=2014, idx=375\n",
      "Infinite Loop. acc=2014, idx=375\n",
      "Infinite Loop. acc=2060, idx=315\n",
      "Infinite Loop. acc=2014, idx=375\n",
      "Infinite Loop. acc=2012, idx=616\n",
      "Infinite Loop. acc=2014, idx=375\n",
      "Infinite Loop. acc=1668, idx=62\n",
      "Infinite Loop. acc=1701, idx=398\n",
      "Infinite Loop. acc=2014, idx=375\n",
      "Infinite Loop. acc=2014, idx=375\n",
      "Infinite Loop. acc=2014, idx=375\n",
      "Infinite Loop. acc=1835, idx=309\n",
      "Infinite Loop. acc=2014, idx=375\n",
      "Infinite Loop. acc=1487, idx=34\n",
      "Infinite Loop. acc=2014, idx=375\n",
      "Infinite Loop. acc=1115, idx=375\n",
      "Infinite Loop. acc=2014, idx=375\n",
      "Infinite Loop. acc=1464, idx=323\n",
      "Infinite Loop. acc=2014, idx=375\n",
      "Infinite Loop. acc=2014, idx=375\n",
      "Infinite Loop. acc=2014, idx=375\n",
      "Infinite Loop. acc=316, idx=375\n",
      "Infinite Loop. acc=2014, idx=375\n",
      "Infinite Loop. acc=2014, idx=375\n",
      "Infinite Loop. acc=2014, idx=375\n",
      "Infinite Loop. acc=2014, idx=375\n",
      "Infinite Loop. acc=2014, idx=375\n",
      "Infinite Loop. acc=2014, idx=375\n",
      "Infinite Loop. acc=2014, idx=375\n",
      "Infinite Loop. acc=1183, idx=375\n",
      "Infinite Loop. acc=1042, idx=375\n",
      "Infinite Loop. acc=2014, idx=375\n",
      "Infinite Loop. acc=996, idx=375\n",
      "Infinite Loop. acc=910, idx=120\n",
      "Infinite Loop. acc=2014, idx=375\n",
      "Infinite Loop. acc=2014, idx=375\n",
      "Infinite Loop. acc=1926, idx=375\n",
      "Infinite Loop. acc=972, idx=375\n",
      "Infinite Loop. acc=2014, idx=375\n",
      "Infinite Loop. acc=1100, idx=34\n",
      "Infinite Loop. acc=2014, idx=375\n",
      "Infinite Loop. acc=2014, idx=375\n",
      "Infinite Loop. acc=2014, idx=375\n",
      "Infinite Loop. acc=2014, idx=375\n",
      "Infinite Loop. acc=2014, idx=375\n",
      "Infinite Loop. acc=2012, idx=34\n",
      "Success! acc=2251, idx=639\n",
      "2251\n"
     ]
    }
   ],
   "source": [
    "code = read_input(\"./day8/input\")\n",
    "\n",
    "exit_code = -1\n",
    "acc = 0\n",
    "for idx in 1:size(code,1)\n",
    "    if code[idx, 1] == \"nop\"\n",
    "        exit_code, acc = run(modify_code(code, idx, \"jmp\"))\n",
    "    elseif code[idx, 1] == \"jmp\"\n",
    "        exit_code, acc = run(modify_code(code, idx, \"nop\"))\n",
    "    end\n",
    "    if exit_code == 0\n",
    "        println(acc)\n",
    "        break\n",
    "    end\n",
    "end"
   ]
  },
  {
   "cell_type": "markdown",
   "metadata": {},
   "source": [
    "# day 9"
   ]
  },
  {
   "cell_type": "code",
   "execution_count": 111,
   "metadata": {},
   "outputs": [
    {
     "data": {
      "text/plain": [
       "(560, 90433990)"
      ]
     },
     "execution_count": 111,
     "metadata": {},
     "output_type": "execute_result"
    }
   ],
   "source": [
    "function validate(data, idx, range)\n",
    "    data_range = data[idx-range:idx-1]\n",
    "    resid = data[idx] .- data_range\n",
    "    is_not_used_twice = resid .!= data_range\n",
    "    is_in_range = [ r in Set(data_range) for r in resid ] # afaik no broadcasting for 'in'\n",
    "    return |((is_not_used_twice .& is_in_range)...)\n",
    "end\n",
    "\n",
    "function find_invalid(data, range)\n",
    "    for idx in (range+1):length(data)\n",
    "        if validate(input, idx, range) == false\n",
    "            invalid = input[idx]\n",
    "            return idx, invalid\n",
    "        end\n",
    "    end\n",
    "end\n",
    "\n",
    "find_invalid(parse.(Int, readlines(\"./day9/input\")), 25)"
   ]
  },
  {
   "cell_type": "code",
   "execution_count": 110,
   "metadata": {},
   "outputs": [
    {
     "data": {
      "text/plain": [
       "([3289338, 5179176, 4759952, 5413470, 8402308, 4463250, 5358204, 5385482, 4715571, 5141223, 4879861, 5096842, 5206454, 6345865, 5288410, 5946272, 5562312], 11691646)"
      ]
     },
     "execution_count": 110,
     "metadata": {},
     "output_type": "execute_result"
    }
   ],
   "source": [
    "function get_sum_range(data, idx, thresh)\n",
    "    total = cumsum(data) .- sum(input[1:idx])\n",
    "    sum_range = data[findall(0 .<= total .<= thresh)]\n",
    "    return sum_range, sum(sum_range)\n",
    "end\n",
    "\n",
    "input = parse.(Int, readlines(\"./day9/input\"))\n",
    "idx, thresh = find_invalid(input, 25)\n",
    "\n",
    "\n",
    "for i in 1:idx-1\n",
    "    sum_range, sum_sum_range = get_sum_range(input, i, thresh)\n",
    "    if sum_sum_range == thresh\n",
    "        return sum_range, maximum(sum_range) + minimum(sum_range)\n",
    "    end\n",
    "end"
   ]
  },
  {
   "cell_type": "markdown",
   "metadata": {},
   "source": [
    "# day 10"
   ]
  },
  {
   "cell_type": "code",
   "execution_count": 138,
   "metadata": {},
   "outputs": [
    {
     "data": {
      "text/plain": [
       "2343"
      ]
     },
     "execution_count": 138,
     "metadata": {},
     "output_type": "execute_result"
    }
   ],
   "source": [
    "using StatsBase\n",
    "\n",
    "input = parse.(Int, readlines(\"./day10/input\"))\n",
    "append!(input, [0, maximum(input)+3])\n",
    "data = sort(input)\n",
    "data_diff = data[2:end] - data[1:end-1]\n",
    "occurences = countmap(data_diff)\n",
    "occurences[1] * occurences[3]"
   ]
  },
  {
   "cell_type": "code",
   "execution_count": 144,
   "metadata": {
    "scrolled": true
   },
   "outputs": [
    {
     "data": {
      "text/plain": [
       "31581162962944"
      ]
     },
     "execution_count": 144,
     "metadata": {},
     "output_type": "execute_result"
    }
   ],
   "source": [
    "using Combinatorics\n",
    "using IterTools\n",
    "\n",
    "function perm_length(len)\n",
    "    \"\"\"only works for step sizes up to 3\"\"\"\n",
    "    choosearr = vcat(Int.(ones(len)), Int.(2 * ones(Int((len-mod(len,2))/2))), Int.(3 * ones(Int((len-mod(len,3))/3))))\n",
    "\n",
    "    subs = unique([i for i in subsets(choosearr) if sum(i) == len])\n",
    "    return size(unique([i for perm in permutations.(subs) for i in perm]), 1)\n",
    "end\n",
    "\n",
    "occ, occ_len = rle(data_diff) # run-length-encoding\n",
    "\n",
    "*([perm_length(occ_len[i]) for (i, o) in enumerate(occ) if o == 1]...)"
   ]
  },
  {
   "cell_type": "code",
   "execution_count": null,
   "metadata": {},
   "outputs": [],
   "source": []
  }
 ],
 "metadata": {
  "kernelspec": {
   "display_name": "Julia 1.4.1",
   "language": "julia",
   "name": "julia-1.4"
  },
  "language_info": {
   "file_extension": ".jl",
   "mimetype": "application/julia",
   "name": "julia",
   "version": "1.4.1"
  }
 },
 "nbformat": 4,
 "nbformat_minor": 4
}
